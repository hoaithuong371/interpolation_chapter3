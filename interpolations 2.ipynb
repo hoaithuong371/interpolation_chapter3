{
 "cells": [
  {
   "cell_type": "code",
   "execution_count": 1,
   "metadata": {},
   "outputs": [],
   "source": [
    "import cv2\n",
    "import matplotlib.pyplot as plt\n",
    "import numpy as np\n",
    "from math import sqrt, floor\n",
    "from PIL import Image\n",
    "\n",
    "%matplotlib inline"
   ]
  },
  {
   "cell_type": "code",
   "execution_count": 2,
   "metadata": {},
   "outputs": [],
   "source": [
    "def nearest_interpolation(image, dimension):\n",
    "    '''Nearest neighbor interpolation method to convert small image to original image\n",
    "    Parameters:\n",
    "    img (numpy.ndarray): Small image\n",
    "    dimension (tuple): resizing image dimension\n",
    "\n",
    "    Returns:\n",
    "    numpy.ndarray: Resized image\n",
    "    '''\n",
    "    new_image = np.zeros((dimension[0], dimension[1], image.shape[2]))\n",
    "\n",
    "    enlarge_time = int(\n",
    "        sqrt((dimension[0] * dimension[1]) / (image.shape[0]*image.shape[1])))\n",
    "\n",
    "    for i in range(dimension[0]):\n",
    "        for j in range(dimension[1]):\n",
    "            row = int(i / enlarge_time)\n",
    "            column = int(j / enlarge_time)\n",
    "\n",
    "            new_image[i, j] = image[row, column]\n",
    "\n",
    "    return new_image"
   ]
  },
  {
   "cell_type": "code",
   "execution_count": 3,
   "metadata": {},
   "outputs": [],
   "source": [
    "def bilinear_interpolation(image, dimension):\n",
    "    '''Bilinear interpolation method to convert small image to original image\n",
    "    Parameters:\n",
    "    img (numpy.ndarray): Small image\n",
    "    dimension (tuple): resizing image dimension\n",
    "\n",
    "    Returns:\n",
    "    numpy.ndarray: Resized image\n",
    "    '''\n",
    "    height = image.shape[0]\n",
    "    width = image.shape[1]\n",
    "\n",
    "    scale_x = (width)/(dimension[1])\n",
    "    scale_y = (height)/(dimension[0])\n",
    "\n",
    "    new_image = np.zeros((dimension[0], dimension[1], image.shape[2]))\n",
    "\n",
    "    for i in range(dimension[0]):\n",
    "        for j in range(dimension[1]):\n",
    "            \n",
    "            x = j*scale_x\n",
    "            y = i*scale_y\n",
    "\n",
    "            x_int = min(floor(x), width-2)\n",
    "            y_int = min(floor(y), height-2)\n",
    "\n",
    "            x_diff = x - x_int\n",
    "            y_diff = y - y_int\n",
    "            \n",
    "            for k in range(3):\n",
    "                a = image[y_int, x_int, k]\n",
    "                b = image[y_int, x_int+1, k]\n",
    "                c = image[y_int+1, x_int, k]\n",
    "                d = image[y_int+1, x_int+1, k]\n",
    "                                \n",
    "                pixel = a*(1-y_diff)*(1-x_diff) + b*(1-y_diff)*x_diff + c*y_diff*(1-x_diff) + d*y_diff*x_diff\n",
    "\n",
    "                new_image[i, j, k] = pixel.astype(np.uint8)\n",
    "\n",
    "    return new_image"
   ]
  },
  {
   "cell_type": "code",
   "execution_count": 4,
   "metadata": {},
   "outputs": [],
   "source": [
    "\n",
    "def read_image(path, scale:float = 1/5):\n",
    "    '''Read image and return the image propertis.\n",
    "    Parameters:\n",
    "    path (string): Image path\n",
    "\n",
    "    Returns:\n",
    "    numpy.ndarray: Image exists in \"path\"\n",
    "    list: Image size\n",
    "    tuple: Image dimension (number of rows and columns)\n",
    "    '''\n",
    "    assert scale > 0\n",
    "    img = cv2.imread(path)  # cv2.IMREAD_GRAYSCALE)\n",
    "    size = img.shape\n",
    "    \n",
    "    img = cv2.resize(img, (int(size[1]*scale), int(size[0]*scale)))\n",
    "    size = img.shape\n",
    "\n",
    "    return img, size"
   ]
  },
  {
   "cell_type": "code",
   "execution_count": 5,
   "metadata": {},
   "outputs": [
    {
     "name": "stderr",
     "output_type": "stream",
     "text": [
      "[ WARN:0@0.921] global loadsave.cpp:244 findDecoder imread_('./2.png'): can't open/read file: check file path/integrity\n"
     ]
    },
    {
     "ename": "AttributeError",
     "evalue": "'NoneType' object has no attribute 'shape'",
     "output_type": "error",
     "traceback": [
      "\u001b[0;31m---------------------------------------------------------------------------\u001b[0m",
      "\u001b[0;31mAttributeError\u001b[0m                            Traceback (most recent call last)",
      "\u001b[0;32m/var/folders/hk/c9c4mlq57ns0qq7d4n_m9y480000gn/T/ipykernel_2970/197847465.py\u001b[0m in \u001b[0;36m<module>\u001b[0;34m\u001b[0m\n\u001b[0;32m----> 1\u001b[0;31m \u001b[0mimg\u001b[0m\u001b[0;34m,\u001b[0m \u001b[0msize\u001b[0m \u001b[0;34m=\u001b[0m \u001b[0mread_image\u001b[0m\u001b[0;34m(\u001b[0m\u001b[0;34m\"./2.png\"\u001b[0m\u001b[0;34m,\u001b[0m \u001b[0mscale\u001b[0m\u001b[0;34m=\u001b[0m\u001b[0;36m1\u001b[0m\u001b[0;34m/\u001b[0m\u001b[0;36m3.5\u001b[0m\u001b[0;34m)\u001b[0m\u001b[0;34m\u001b[0m\u001b[0;34m\u001b[0m\u001b[0m\n\u001b[0m",
      "\u001b[0;32m/var/folders/hk/c9c4mlq57ns0qq7d4n_m9y480000gn/T/ipykernel_2970/1013847465.py\u001b[0m in \u001b[0;36mread_image\u001b[0;34m(path, scale)\u001b[0m\n\u001b[1;32m     11\u001b[0m     \u001b[0;32massert\u001b[0m \u001b[0mscale\u001b[0m \u001b[0;34m>\u001b[0m \u001b[0;36m0\u001b[0m\u001b[0;34m\u001b[0m\u001b[0;34m\u001b[0m\u001b[0m\n\u001b[1;32m     12\u001b[0m     \u001b[0mimg\u001b[0m \u001b[0;34m=\u001b[0m \u001b[0mcv2\u001b[0m\u001b[0;34m.\u001b[0m\u001b[0mimread\u001b[0m\u001b[0;34m(\u001b[0m\u001b[0mpath\u001b[0m\u001b[0;34m)\u001b[0m  \u001b[0;31m# cv2.IMREAD_GRAYSCALE)\u001b[0m\u001b[0;34m\u001b[0m\u001b[0;34m\u001b[0m\u001b[0m\n\u001b[0;32m---> 13\u001b[0;31m     \u001b[0msize\u001b[0m \u001b[0;34m=\u001b[0m \u001b[0mimg\u001b[0m\u001b[0;34m.\u001b[0m\u001b[0mshape\u001b[0m\u001b[0;34m\u001b[0m\u001b[0;34m\u001b[0m\u001b[0m\n\u001b[0m\u001b[1;32m     14\u001b[0m \u001b[0;34m\u001b[0m\u001b[0m\n\u001b[1;32m     15\u001b[0m     \u001b[0mimg\u001b[0m \u001b[0;34m=\u001b[0m \u001b[0mcv2\u001b[0m\u001b[0;34m.\u001b[0m\u001b[0mresize\u001b[0m\u001b[0;34m(\u001b[0m\u001b[0mimg\u001b[0m\u001b[0;34m,\u001b[0m \u001b[0;34m(\u001b[0m\u001b[0mint\u001b[0m\u001b[0;34m(\u001b[0m\u001b[0msize\u001b[0m\u001b[0;34m[\u001b[0m\u001b[0;36m1\u001b[0m\u001b[0;34m]\u001b[0m\u001b[0;34m*\u001b[0m\u001b[0mscale\u001b[0m\u001b[0;34m)\u001b[0m\u001b[0;34m,\u001b[0m \u001b[0mint\u001b[0m\u001b[0;34m(\u001b[0m\u001b[0msize\u001b[0m\u001b[0;34m[\u001b[0m\u001b[0;36m0\u001b[0m\u001b[0;34m]\u001b[0m\u001b[0;34m*\u001b[0m\u001b[0mscale\u001b[0m\u001b[0;34m)\u001b[0m\u001b[0;34m)\u001b[0m\u001b[0;34m)\u001b[0m\u001b[0;34m\u001b[0m\u001b[0;34m\u001b[0m\u001b[0m\n",
      "\u001b[0;31mAttributeError\u001b[0m: 'NoneType' object has no attribute 'shape'"
     ]
    }
   ],
   "source": [
    "img, size = read_image(\"./2.png\", scale=1/3.5)"
   ]
  },
  {
   "cell_type": "code",
   "execution_count": null,
   "metadata": {},
   "outputs": [],
   "source": [
    "scale_rate = 4\n",
    "\n",
    "new_dimension = (int(size[0]*scale_rate), int(size[1]*scale_rate))\n",
    "nn_img_algo = nearest_interpolation(img, new_dimension)\n",
    "nn_img_algo = Image.fromarray(nn_img_algo.astype('uint8')).convert('RGB')\n",
    "\n",
    "bil_img_algo = bilinear_interpolation(img, new_dimension)\n",
    "bil_img_algo = Image.fromarray(bil_img_algo.astype('uint8')).convert('RGB')"
   ]
  },
  {
   "cell_type": "code",
   "execution_count": null,
   "metadata": {},
   "outputs": [
    {
     "data": {
      "text/plain": [
       "(-0.5, 343.5, 343.5, -0.5)"
      ]
     },
     "execution_count": 7,
     "metadata": {},
     "output_type": "execute_result"
    },
    {
     "data": {
      "image/png": "[encoded data removed]",
      "text/plain": [
       "<Figure size 100x100 with 1 Axes>"
      ]
     },
     "metadata": {},
     "output_type": "display_data"
    },
    {
     "data": {
      "image/png": "[encoded data removed]",
      "text/plain": [
       "<Figure size 600x600 with 1 Axes>"
      ]
     },
     "metadata": {},
     "output_type": "display_data"
    },
    {
     "data": {
      "image/png": "[encoded data removed]",
      "text/plain": [
       "<Figure size 600x600 with 1 Axes>"
      ]
     },
     "metadata": {},
     "output_type": "display_data"
    }
   ],
   "source": [
    "fix_scale_plot = 50\n",
    "\n",
    "plt.figure(figsize=(img.shape[1]//fix_scale_plot, img.shape[0]//fix_scale_plot))\n",
    "plt.imshow(cv2.cvtColor(img, cv2.COLOR_BGR2RGB))\n",
    "plt.title(f\"Original\")\n",
    "plt.axis(\"off\")\n",
    "\n",
    "plt.figure(figsize=(nn_img_algo.size[1]//fix_scale_plot, nn_img_algo.size[0]//fix_scale_plot))\n",
    "plt.imshow(cv2.cvtColor(np.array(nn_img_algo), cv2.COLOR_BGR2RGB))\n",
    "plt.title(f\"Nearest\")\n",
    "plt.axis(\"off\")\n",
    "\n",
    "plt.figure(figsize=(bil_img_algo.size[1]//fix_scale_plot, bil_img_algo.size[0]//fix_scale_plot))\n",
    "plt.imshow(cv2.cvtColor(np.array(bil_img_algo), cv2.COLOR_BGR2RGB))\n",
    "plt.title(f\"Bilinear\")\n",
    "plt.axis(\"off\")"
   ]
  }
 ],
 "metadata": {
  "kernelspec": {
   "display_name": "base",
   "language": "python",
   "name": "python3"
  },
  "language_info": {
   "codemirror_mode": {
    "name": "ipython",
    "version": 3
   },
   "file_extension": ".py",
   "mimetype": "text/x-python",
   "name": "python",
   "nbconvert_exporter": "python",
   "pygments_lexer": "ipython3",
   "version": "3.9.13"
  }
 },
 "nbformat": 4,
 "nbformat_minor": 2
}
